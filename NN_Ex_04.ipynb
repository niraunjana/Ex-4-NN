{
  "nbformat": 4,
  "nbformat_minor": 0,
  "metadata": {
    "colab": {
      "provenance": []
    },
    "kernelspec": {
      "name": "python3",
      "display_name": "Python 3"
    },
    "language_info": {
      "name": "python"
    }
  },
  "cells": [
    {
      "cell_type": "code",
      "execution_count": 1,
      "metadata": {
        "id": "f3nh6eV2Osa_"
      },
      "outputs": [],
      "source": [
        "import pandas as pd\n",
        "from sklearn.model_selection import train_test_split\n",
        "from sklearn.preprocessing import StandardScaler\n",
        "from sklearn.neural_network import MLPClassifier\n",
        "from sklearn.metrics import classification_report\n",
        "from sklearn.metrics import confusion_matrix\n"
      ]
    },
    {
      "cell_type": "code",
      "source": [
        "\n",
        "url = 'https://archive.ics.uci.edu/ml/machine-learning-databases/iris/iris.data'\n",
        "arr = ['SepalLength', 'SepalWidth', 'PetalLength', 'PetalWidth', 'Species']\n",
        "df = pd.read_csv(url, names=arr)\n",
        "print(df.head())"
      ],
      "metadata": {
        "colab": {
          "base_uri": "https://localhost:8080/"
        },
        "id": "zqgUnqqrOuW0",
        "outputId": "ec7126ca-cf3a-4af0-a540-585f8488f178"
      },
      "execution_count": 2,
      "outputs": [
        {
          "output_type": "stream",
          "name": "stdout",
          "text": [
            "   SepalLength  SepalWidth  PetalLength  PetalWidth      Species\n",
            "0          5.1         3.5          1.4         0.2  Iris-setosa\n",
            "1          4.9         3.0          1.4         0.2  Iris-setosa\n",
            "2          4.7         3.2          1.3         0.2  Iris-setosa\n",
            "3          4.6         3.1          1.5         0.2  Iris-setosa\n",
            "4          5.0         3.6          1.4         0.2  Iris-setosa\n"
          ]
        }
      ]
    },
    {
      "cell_type": "code",
      "source": [
        "\n",
        "a = df.iloc[:, 0:4]\n",
        "b = df.select_dtypes(include=[object])\n",
        "b = df.iloc[:,4:5]"
      ],
      "metadata": {
        "id": "JLYBBUWDOuh-"
      },
      "execution_count": 3,
      "outputs": []
    },
    {
      "cell_type": "code",
      "source": [
        "\n",
        "training_a, testing_a, training_b, testing_b = train_test_split(a, b, test_size = 0.25)\n",
        "myscaler = StandardScaler()\n",
        "myscaler.fit(training_a)\n",
        "training_a = myscaler.transform(training_a)\n",
        "testing_a = myscaler.transform(testing_a)\n",
        "m1 = MLPClassifier(hidden_layer_sizes=(12, 13, 14), activation='relu', solver='adam', max_iter=2500)\n",
        "m1.fit(training_a, training_b.values.ravel())\n",
        "predicted_values = m1.predict(testing_a)"
      ],
      "metadata": {
        "id": "S04Wl8jIOuq8"
      },
      "execution_count": 4,
      "outputs": []
    },
    {
      "cell_type": "code",
      "source": [
        "print(\"NIRAUNJANA GAYATHRI G R 212222230096\")\n",
        "print(confusion_matrix(testing_b,predicted_values))\n"
      ],
      "metadata": {
        "colab": {
          "base_uri": "https://localhost:8080/"
        },
        "id": "MGUBn8VSO00w",
        "outputId": "dced3a2d-647c-4a7e-ce92-0d8cc587a5b5"
      },
      "execution_count": 7,
      "outputs": [
        {
          "output_type": "stream",
          "name": "stdout",
          "text": [
            "NIRAUNJANA GAYATHRI G R 212222230096\n",
            "[[15  0  0]\n",
            " [ 0 11  0]\n",
            " [ 0  0 12]]\n"
          ]
        }
      ]
    },
    {
      "cell_type": "code",
      "source": [
        "print(\"NIRAUNJANA GAYATHRI G R 212222230096\")\n",
        "print(classification_report(testing_b,predicted_values))"
      ],
      "metadata": {
        "colab": {
          "base_uri": "https://localhost:8080/"
        },
        "id": "NDLbeiXYO04H",
        "outputId": "029617aa-5434-4921-e5b2-2833eec85837"
      },
      "execution_count": 8,
      "outputs": [
        {
          "output_type": "stream",
          "name": "stdout",
          "text": [
            "NIRAUNJANA GAYATHRI G R 212222230096\n",
            "                 precision    recall  f1-score   support\n",
            "\n",
            "    Iris-setosa       1.00      1.00      1.00        15\n",
            "Iris-versicolor       1.00      1.00      1.00        11\n",
            " Iris-virginica       1.00      1.00      1.00        12\n",
            "\n",
            "       accuracy                           1.00        38\n",
            "      macro avg       1.00      1.00      1.00        38\n",
            "   weighted avg       1.00      1.00      1.00        38\n",
            "\n"
          ]
        }
      ]
    }
  ]
}